{
  "nbformat": 4,
  "nbformat_minor": 0,
  "metadata": {
    "colab": {
      "name": "Regressão Logística - Concessão de Crédito.ipynb",
      "provenance": [],
      "collapsed_sections": []
    },
    "kernelspec": {
      "name": "python3",
      "display_name": "Python 3"
    },
    "language_info": {
      "name": "python"
    }
  },
  "cells": [
    {
      "cell_type": "markdown",
      "metadata": {
        "id": "cxL27h320yiv"
      },
      "source": [
        "#Regressão Logística - Concessão de Crédito"
      ]
    },
    {
      "cell_type": "markdown",
      "metadata": {
        "id": "SQM8MZr307lj"
      },
      "source": [
        "O objetivo do estudo abaixo é apresentar o uso de regressão logística para análise preditiva para concessão de crédito, utilizando diferentes algoritmos e comparando seus indicadores de desempenho.\n",
        "\n",
        "**Fonte de dados:** Dataset público extraído originalmente do Kaggle e traduzido para o português."
      ]
    },
    {
      "cell_type": "markdown",
      "metadata": {
        "id": "l4z_ySDM35Ui"
      },
      "source": [
        "##Importação de Bibliotecas"
      ]
    },
    {
      "cell_type": "code",
      "metadata": {
        "id": "DcZH5Ls3d1Np"
      },
      "source": [
        "import pandas as pd\n",
        "import numpy as np\n",
        "import matplotlib.pyplot as plt\n",
        "import seaborn as sns\n",
        "\n",
        "from sklearn.model_selection import train_test_split\n",
        "from sklearn.linear_model import LogisticRegression\n",
        "from sklearn.neighbors import KNeighborsClassifier\n",
        "from sklearn.ensemble import RandomForestClassifier \n",
        "\n",
        "from xgboost import XGBClassifier\n",
        "\n",
        "from sklearn.metrics import accuracy_score\n",
        "from sklearn.metrics import plot_confusion_matrix\n",
        "from sklearn.metrics import classification_report\n",
        "from sklearn.metrics import roc_curve, roc_auc_score"
      ],
      "execution_count": null,
      "outputs": []
    },
    {
      "cell_type": "markdown",
      "metadata": {
        "id": "QrWgHGKC38Yz"
      },
      "source": [
        "##Funções "
      ]
    },
    {
      "cell_type": "code",
      "metadata": {
        "id": "fVMGaW7aBOIu"
      },
      "source": [
        "def tranforma_coluna_categorica_em_numerica(dataset, lista_coluna):\n",
        "\n",
        "  for coluna in lista_coluna:\n",
        "\n",
        "    lista = list(enumerate(dataset[coluna].unique()));\n",
        "\n",
        "    dicionario = {};\n",
        "\n",
        "    for item in lista:\n",
        "      dicionario.update({item[1]: item[0]})\n",
        "\n",
        "    dataset['id_' + coluna] = dataset[coluna].map(dicionario)\n",
        "\n",
        "  return dataset"
      ],
      "execution_count": null,
      "outputs": []
    },
    {
      "cell_type": "code",
      "metadata": {
        "id": "lLRAiUKl5KFI"
      },
      "source": [
        "#funcao 'roda_modelo': ajuste a validacao\n",
        "\n",
        "def roda_modelo(base_dados, classificador):\n",
        "\n",
        "#separando a base de modelagem e variavel resposta\n",
        "\n",
        "    y = base_dados['default']\n",
        "    x = base_dados.drop(columns='default')\n",
        "\n",
        "#separando a base de treino e teste\n",
        "\n",
        "    SEED = 77\n",
        "    treino_x, teste_x, treino_y, teste_y = train_test_split(x, y, test_size=0.30, random_state = SEED)\n",
        "\n",
        "    base_treino = treino_x.shape[0]\n",
        "    base_teste = teste_x.shape[0]\n",
        "    print('A base de treino tem %s elementos e a base de teste tem %s elementos.' %(base_treino, base_teste))\n",
        "    print(100*'-')\n",
        "\n",
        "#ajustamdo modelo com base de teste\n",
        "    \n",
        "    modelo = classificador\n",
        "    modelo.fit(treino_x, treino_y)\n",
        "\n",
        "#-------------------------------------------------------------------------------------------------------------------------------------\n",
        "\n",
        "#matriz de confusao\n",
        "\n",
        "    matriz_confusao = plot_confusion_matrix(modelo, teste_x, teste_y, values_format = '.3g', cmap = 'Blues')\n",
        "    plt.title('Matriz de Confusao')\n",
        "    plt.show\n",
        "\n",
        "#classification report\n",
        "\n",
        "    previsoes = modelo.predict(teste_x)\n",
        "\n",
        "    print('\\nClassification Report:')\n",
        "    print(classification_report(teste_y, previsoes))\n",
        "\n",
        "#curva ROC  e AUC\n",
        "\n",
        "    print(100*'-')\n",
        "    prob_previsao = modelo.predict_proba(teste_x)[:,1]\n",
        "   \n",
        "    tfp, tvp, limite = roc_curve(teste_y, prob_previsao)\n",
        "    print('roc_auc:', roc_auc_score(teste_y, prob_previsao))\n",
        "    \n",
        "    plt.subplots(1, figsize=(5,5))\n",
        "    plt.title('Curva ROC')\n",
        "    plt.plot(tfp, tvp)\n",
        "    plt.plot([0, 1], ls=\"--\", c = 'red') #plotando linha pontilhada guia para regressao aleatoria\n",
        "    plt.plot([0, 0], [1, 0], ls=\"--\", c = 'green'), plt.plot([1, 1], ls=\"--\", c = 'green') #plotando linha pontilhada guia para regressao perfeita\n",
        "    plt.ylabel('Sensibilidade')\n",
        "    plt.xlabel('Especificidade')\n",
        "    plt.show() \n",
        "\n",
        "    return modelo, matriz_confusao"
      ],
      "execution_count": null,
      "outputs": []
    },
    {
      "cell_type": "markdown",
      "metadata": {
        "id": "X5RZN6jl4ASs"
      },
      "source": [
        "##Carga dos Dados"
      ]
    },
    {
      "cell_type": "code",
      "metadata": {
        "colab": {
          "base_uri": "https://localhost:8080/",
          "height": 428
        },
        "id": "srpeqnmvd2ya",
        "outputId": "69814569-f3bc-4b0c-b0fb-90a1d9662205"
      },
      "source": [
        "dados_origem = pd.read_csv('base_dados_traduzida.csv')\n",
        "dados_origem.head()"
      ],
      "execution_count": null,
      "outputs": [
        {
          "output_type": "execute_result",
          "data": {
            "text/html": [
              "<div>\n",
              "<style scoped>\n",
              "    .dataframe tbody tr th:only-of-type {\n",
              "        vertical-align: middle;\n",
              "    }\n",
              "\n",
              "    .dataframe tbody tr th {\n",
              "        vertical-align: top;\n",
              "    }\n",
              "\n",
              "    .dataframe thead th {\n",
              "        text-align: right;\n",
              "    }\n",
              "</style>\n",
              "<table border=\"1\" class=\"dataframe\">\n",
              "  <thead>\n",
              "    <tr style=\"text-align: right;\">\n",
              "      <th></th>\n",
              "      <th>default</th>\n",
              "      <th>conta_corrente</th>\n",
              "      <th>prazo_emprestimo_meses</th>\n",
              "      <th>historico_credito</th>\n",
              "      <th>proposito_emprestimo</th>\n",
              "      <th>valor_emprestimo</th>\n",
              "      <th>reserva_cc</th>\n",
              "      <th>tempo_emprego_atual</th>\n",
              "      <th>taxa_comp_salario</th>\n",
              "      <th>sexo_est_civil</th>\n",
              "      <th>outros_fiadores</th>\n",
              "      <th>anos_residencia_atual</th>\n",
              "      <th>propriedade</th>\n",
              "      <th>idade</th>\n",
              "      <th>outros_planos_financiamento</th>\n",
              "      <th>tipo_residencia</th>\n",
              "      <th>n_creditos_banco</th>\n",
              "      <th>status_emprego</th>\n",
              "      <th>n_dependentes</th>\n",
              "      <th>telefone</th>\n",
              "      <th>trabalhador_estrangeiro</th>\n",
              "    </tr>\n",
              "  </thead>\n",
              "  <tbody>\n",
              "    <tr>\n",
              "      <th>0</th>\n",
              "      <td>0</td>\n",
              "      <td>&lt; 0 DM</td>\n",
              "      <td>6</td>\n",
              "      <td>critical account/ other credits existing (not ...</td>\n",
              "      <td>domestic appliances</td>\n",
              "      <td>1169</td>\n",
              "      <td>unknown/ no savings account</td>\n",
              "      <td>.. &gt;= 7 years</td>\n",
              "      <td>4</td>\n",
              "      <td>male : single</td>\n",
              "      <td>none</td>\n",
              "      <td>4</td>\n",
              "      <td>real estate</td>\n",
              "      <td>67</td>\n",
              "      <td>none</td>\n",
              "      <td>own</td>\n",
              "      <td>2</td>\n",
              "      <td>skilled employee / official</td>\n",
              "      <td>1</td>\n",
              "      <td>yes, registered under the customers name</td>\n",
              "      <td>yes</td>\n",
              "    </tr>\n",
              "    <tr>\n",
              "      <th>1</th>\n",
              "      <td>1</td>\n",
              "      <td>0 &lt;= ... &lt; 200 DM</td>\n",
              "      <td>48</td>\n",
              "      <td>existing credits paid back duly till now</td>\n",
              "      <td>domestic appliances</td>\n",
              "      <td>5951</td>\n",
              "      <td>... &lt; 100 DM</td>\n",
              "      <td>1 &lt;= ... &lt; 4 years</td>\n",
              "      <td>2</td>\n",
              "      <td>female : divorced/separated/married</td>\n",
              "      <td>none</td>\n",
              "      <td>2</td>\n",
              "      <td>real estate</td>\n",
              "      <td>22</td>\n",
              "      <td>none</td>\n",
              "      <td>own</td>\n",
              "      <td>1</td>\n",
              "      <td>skilled employee / official</td>\n",
              "      <td>1</td>\n",
              "      <td>none</td>\n",
              "      <td>yes</td>\n",
              "    </tr>\n",
              "    <tr>\n",
              "      <th>2</th>\n",
              "      <td>0</td>\n",
              "      <td>no checking account</td>\n",
              "      <td>12</td>\n",
              "      <td>critical account/ other credits existing (not ...</td>\n",
              "      <td>(vacation - does not exist?)</td>\n",
              "      <td>2096</td>\n",
              "      <td>... &lt; 100 DM</td>\n",
              "      <td>4 &lt;= ... &lt; 7 years</td>\n",
              "      <td>2</td>\n",
              "      <td>male : single</td>\n",
              "      <td>none</td>\n",
              "      <td>3</td>\n",
              "      <td>real estate</td>\n",
              "      <td>49</td>\n",
              "      <td>none</td>\n",
              "      <td>own</td>\n",
              "      <td>1</td>\n",
              "      <td>unskilled - resident</td>\n",
              "      <td>2</td>\n",
              "      <td>none</td>\n",
              "      <td>yes</td>\n",
              "    </tr>\n",
              "    <tr>\n",
              "      <th>3</th>\n",
              "      <td>0</td>\n",
              "      <td>&lt; 0 DM</td>\n",
              "      <td>42</td>\n",
              "      <td>existing credits paid back duly till now</td>\n",
              "      <td>radio/television</td>\n",
              "      <td>7882</td>\n",
              "      <td>... &lt; 100 DM</td>\n",
              "      <td>4 &lt;= ... &lt; 7 years</td>\n",
              "      <td>2</td>\n",
              "      <td>male : single</td>\n",
              "      <td>guarantor</td>\n",
              "      <td>4</td>\n",
              "      <td>if not A121 : building society savings agreeme...</td>\n",
              "      <td>45</td>\n",
              "      <td>none</td>\n",
              "      <td>for free</td>\n",
              "      <td>1</td>\n",
              "      <td>skilled employee / official</td>\n",
              "      <td>2</td>\n",
              "      <td>none</td>\n",
              "      <td>yes</td>\n",
              "    </tr>\n",
              "    <tr>\n",
              "      <th>4</th>\n",
              "      <td>1</td>\n",
              "      <td>&lt; 0 DM</td>\n",
              "      <td>24</td>\n",
              "      <td>delay in paying off in the past</td>\n",
              "      <td>car (new)</td>\n",
              "      <td>4870</td>\n",
              "      <td>... &lt; 100 DM</td>\n",
              "      <td>1 &lt;= ... &lt; 4 years</td>\n",
              "      <td>3</td>\n",
              "      <td>male : single</td>\n",
              "      <td>none</td>\n",
              "      <td>4</td>\n",
              "      <td>unknown / no property</td>\n",
              "      <td>53</td>\n",
              "      <td>none</td>\n",
              "      <td>for free</td>\n",
              "      <td>2</td>\n",
              "      <td>skilled employee / official</td>\n",
              "      <td>2</td>\n",
              "      <td>none</td>\n",
              "      <td>yes</td>\n",
              "    </tr>\n",
              "  </tbody>\n",
              "</table>\n",
              "</div>"
            ],
            "text/plain": [
              "   default  ... trabalhador_estrangeiro\n",
              "0        0  ...                     yes\n",
              "1        1  ...                     yes\n",
              "2        0  ...                     yes\n",
              "3        0  ...                     yes\n",
              "4        1  ...                     yes\n",
              "\n",
              "[5 rows x 21 columns]"
            ]
          },
          "metadata": {},
          "execution_count": 35
        }
      ]
    },
    {
      "cell_type": "code",
      "metadata": {
        "colab": {
          "base_uri": "https://localhost:8080/"
        },
        "id": "kZx36SsDAzeD",
        "outputId": "cec85346-4dd2-44e3-8485-5ef12bbc8363"
      },
      "source": [
        "dados_origem.info()"
      ],
      "execution_count": null,
      "outputs": [
        {
          "output_type": "stream",
          "name": "stdout",
          "text": [
            "<class 'pandas.core.frame.DataFrame'>\n",
            "RangeIndex: 1000 entries, 0 to 999\n",
            "Data columns (total 21 columns):\n",
            " #   Column                       Non-Null Count  Dtype \n",
            "---  ------                       --------------  ----- \n",
            " 0   default                      1000 non-null   int64 \n",
            " 1   conta_corrente               1000 non-null   object\n",
            " 2   prazo_emprestimo_meses       1000 non-null   int64 \n",
            " 3   historico_credito            1000 non-null   object\n",
            " 4   proposito_emprestimo         1000 non-null   object\n",
            " 5   valor_emprestimo             1000 non-null   int64 \n",
            " 6   reserva_cc                   1000 non-null   object\n",
            " 7   tempo_emprego_atual          1000 non-null   object\n",
            " 8   taxa_comp_salario            1000 non-null   int64 \n",
            " 9   sexo_est_civil               1000 non-null   object\n",
            " 10  outros_fiadores              1000 non-null   object\n",
            " 11  anos_residencia_atual        1000 non-null   int64 \n",
            " 12  propriedade                  1000 non-null   object\n",
            " 13  idade                        1000 non-null   int64 \n",
            " 14  outros_planos_financiamento  1000 non-null   object\n",
            " 15  tipo_residencia              1000 non-null   object\n",
            " 16  n_creditos_banco             1000 non-null   int64 \n",
            " 17  status_emprego               1000 non-null   object\n",
            " 18  n_dependentes                1000 non-null   int64 \n",
            " 19  telefone                     1000 non-null   object\n",
            " 20  trabalhador_estrangeiro      1000 non-null   object\n",
            "dtypes: int64(8), object(13)\n",
            "memory usage: 164.2+ KB\n"
          ]
        }
      ]
    },
    {
      "cell_type": "code",
      "metadata": {
        "id": "6NnzBYnBeBZ-",
        "colab": {
          "base_uri": "https://localhost:8080/"
        },
        "outputId": "1677fca2-136b-4e48-a197-161d291f0b7e"
      },
      "source": [
        "linhas = dados_origem.shape[0]\n",
        "colunas = dados_origem.shape[1]\n",
        "\n",
        "print('A base de dados tem %s linhas e %s colunas.' %(linhas, colunas))"
      ],
      "execution_count": null,
      "outputs": [
        {
          "output_type": "stream",
          "name": "stdout",
          "text": [
            "A base de dados tem 1000 linhas e 21 colunas.\n"
          ]
        }
      ]
    },
    {
      "cell_type": "markdown",
      "metadata": {
        "id": "YPyeVrkA4FmW"
      },
      "source": [
        "##Tratamento e Preparação dos Dados"
      ]
    },
    {
      "cell_type": "code",
      "metadata": {
        "colab": {
          "base_uri": "https://localhost:8080/"
        },
        "id": "ZFA1GX_uBtuX",
        "outputId": "7abad51b-6ace-4e55-ca02-3ba2ea1a1622"
      },
      "source": [
        "duplicados = dados_origem.duplicated()\n",
        "duplicados = duplicados.sum()\n",
        "\n",
        "print('A base de dados tem %s dados duplicados.' %(duplicados))"
      ],
      "execution_count": null,
      "outputs": [
        {
          "output_type": "stream",
          "name": "stdout",
          "text": [
            "A base de dados tem 0 dados duplicados.\n"
          ]
        }
      ]
    },
    {
      "cell_type": "code",
      "metadata": {
        "colab": {
          "base_uri": "https://localhost:8080/"
        },
        "id": "jOoeiByiB0nv",
        "outputId": "2bc56f82-8146-49a0-a682-99ba992376d1"
      },
      "source": [
        "nulos = dados_origem.isnull()\n",
        "nulos.sum()"
      ],
      "execution_count": null,
      "outputs": [
        {
          "output_type": "execute_result",
          "data": {
            "text/plain": [
              "default                        0\n",
              "conta_corrente                 0\n",
              "prazo_emprestimo_meses         0\n",
              "historico_credito              0\n",
              "proposito_emprestimo           0\n",
              "valor_emprestimo               0\n",
              "reserva_cc                     0\n",
              "tempo_emprego_atual            0\n",
              "taxa_comp_salario              0\n",
              "sexo_est_civil                 0\n",
              "outros_fiadores                0\n",
              "anos_residencia_atual          0\n",
              "propriedade                    0\n",
              "idade                          0\n",
              "outros_planos_financiamento    0\n",
              "tipo_residencia                0\n",
              "n_creditos_banco               0\n",
              "status_emprego                 0\n",
              "n_dependentes                  0\n",
              "telefone                       0\n",
              "trabalhador_estrangeiro        0\n",
              "dtype: int64"
            ]
          },
          "metadata": {},
          "execution_count": 39
        }
      ]
    },
    {
      "cell_type": "code",
      "metadata": {
        "id": "MCsTfo0SeGhD",
        "colab": {
          "base_uri": "https://localhost:8080/",
          "height": 224
        },
        "outputId": "915d075a-1646-48bb-eb5c-bc6186d56960"
      },
      "source": [
        "lista_coluna = ['conta_corrente', 'historico_credito', 'proposito_emprestimo', 'reserva_cc', 'tempo_emprego_atual', \n",
        "                'sexo_est_civil', 'outros_fiadores', 'propriedade', 'outros_planos_financiamento', 'tipo_residencia', \n",
        "                'status_emprego', 'telefone', 'trabalhador_estrangeiro']\n",
        "\n",
        "dados = tranforma_coluna_categorica_em_numerica(dados_origem.copy(), lista_coluna)\n",
        "dados.drop(columns=lista_coluna, inplace=True)\n",
        "dados.head()"
      ],
      "execution_count": null,
      "outputs": [
        {
          "output_type": "execute_result",
          "data": {
            "text/html": [
              "<div>\n",
              "<style scoped>\n",
              "    .dataframe tbody tr th:only-of-type {\n",
              "        vertical-align: middle;\n",
              "    }\n",
              "\n",
              "    .dataframe tbody tr th {\n",
              "        vertical-align: top;\n",
              "    }\n",
              "\n",
              "    .dataframe thead th {\n",
              "        text-align: right;\n",
              "    }\n",
              "</style>\n",
              "<table border=\"1\" class=\"dataframe\">\n",
              "  <thead>\n",
              "    <tr style=\"text-align: right;\">\n",
              "      <th></th>\n",
              "      <th>default</th>\n",
              "      <th>prazo_emprestimo_meses</th>\n",
              "      <th>valor_emprestimo</th>\n",
              "      <th>taxa_comp_salario</th>\n",
              "      <th>anos_residencia_atual</th>\n",
              "      <th>idade</th>\n",
              "      <th>n_creditos_banco</th>\n",
              "      <th>n_dependentes</th>\n",
              "      <th>id_conta_corrente</th>\n",
              "      <th>id_historico_credito</th>\n",
              "      <th>id_proposito_emprestimo</th>\n",
              "      <th>id_reserva_cc</th>\n",
              "      <th>id_tempo_emprego_atual</th>\n",
              "      <th>id_sexo_est_civil</th>\n",
              "      <th>id_outros_fiadores</th>\n",
              "      <th>id_propriedade</th>\n",
              "      <th>id_outros_planos_financiamento</th>\n",
              "      <th>id_tipo_residencia</th>\n",
              "      <th>id_status_emprego</th>\n",
              "      <th>id_telefone</th>\n",
              "      <th>id_trabalhador_estrangeiro</th>\n",
              "    </tr>\n",
              "  </thead>\n",
              "  <tbody>\n",
              "    <tr>\n",
              "      <th>0</th>\n",
              "      <td>0</td>\n",
              "      <td>6</td>\n",
              "      <td>1169</td>\n",
              "      <td>4</td>\n",
              "      <td>4</td>\n",
              "      <td>67</td>\n",
              "      <td>2</td>\n",
              "      <td>1</td>\n",
              "      <td>0</td>\n",
              "      <td>0</td>\n",
              "      <td>0</td>\n",
              "      <td>0</td>\n",
              "      <td>0</td>\n",
              "      <td>0</td>\n",
              "      <td>0</td>\n",
              "      <td>0</td>\n",
              "      <td>0</td>\n",
              "      <td>0</td>\n",
              "      <td>0</td>\n",
              "      <td>0</td>\n",
              "      <td>0</td>\n",
              "    </tr>\n",
              "    <tr>\n",
              "      <th>1</th>\n",
              "      <td>1</td>\n",
              "      <td>48</td>\n",
              "      <td>5951</td>\n",
              "      <td>2</td>\n",
              "      <td>2</td>\n",
              "      <td>22</td>\n",
              "      <td>1</td>\n",
              "      <td>1</td>\n",
              "      <td>1</td>\n",
              "      <td>1</td>\n",
              "      <td>0</td>\n",
              "      <td>1</td>\n",
              "      <td>1</td>\n",
              "      <td>1</td>\n",
              "      <td>0</td>\n",
              "      <td>0</td>\n",
              "      <td>0</td>\n",
              "      <td>0</td>\n",
              "      <td>0</td>\n",
              "      <td>1</td>\n",
              "      <td>0</td>\n",
              "    </tr>\n",
              "    <tr>\n",
              "      <th>2</th>\n",
              "      <td>0</td>\n",
              "      <td>12</td>\n",
              "      <td>2096</td>\n",
              "      <td>2</td>\n",
              "      <td>3</td>\n",
              "      <td>49</td>\n",
              "      <td>1</td>\n",
              "      <td>2</td>\n",
              "      <td>2</td>\n",
              "      <td>0</td>\n",
              "      <td>1</td>\n",
              "      <td>1</td>\n",
              "      <td>2</td>\n",
              "      <td>0</td>\n",
              "      <td>0</td>\n",
              "      <td>0</td>\n",
              "      <td>0</td>\n",
              "      <td>0</td>\n",
              "      <td>1</td>\n",
              "      <td>1</td>\n",
              "      <td>0</td>\n",
              "    </tr>\n",
              "    <tr>\n",
              "      <th>3</th>\n",
              "      <td>0</td>\n",
              "      <td>42</td>\n",
              "      <td>7882</td>\n",
              "      <td>2</td>\n",
              "      <td>4</td>\n",
              "      <td>45</td>\n",
              "      <td>1</td>\n",
              "      <td>2</td>\n",
              "      <td>0</td>\n",
              "      <td>1</td>\n",
              "      <td>2</td>\n",
              "      <td>1</td>\n",
              "      <td>2</td>\n",
              "      <td>0</td>\n",
              "      <td>1</td>\n",
              "      <td>1</td>\n",
              "      <td>0</td>\n",
              "      <td>1</td>\n",
              "      <td>0</td>\n",
              "      <td>1</td>\n",
              "      <td>0</td>\n",
              "    </tr>\n",
              "    <tr>\n",
              "      <th>4</th>\n",
              "      <td>1</td>\n",
              "      <td>24</td>\n",
              "      <td>4870</td>\n",
              "      <td>3</td>\n",
              "      <td>4</td>\n",
              "      <td>53</td>\n",
              "      <td>2</td>\n",
              "      <td>2</td>\n",
              "      <td>0</td>\n",
              "      <td>2</td>\n",
              "      <td>3</td>\n",
              "      <td>1</td>\n",
              "      <td>1</td>\n",
              "      <td>0</td>\n",
              "      <td>0</td>\n",
              "      <td>2</td>\n",
              "      <td>0</td>\n",
              "      <td>1</td>\n",
              "      <td>0</td>\n",
              "      <td>1</td>\n",
              "      <td>0</td>\n",
              "    </tr>\n",
              "  </tbody>\n",
              "</table>\n",
              "</div>"
            ],
            "text/plain": [
              "   default  prazo_emprestimo_meses  ...  id_telefone  id_trabalhador_estrangeiro\n",
              "0        0                       6  ...            0                           0\n",
              "1        1                      48  ...            1                           0\n",
              "2        0                      12  ...            1                           0\n",
              "3        0                      42  ...            1                           0\n",
              "4        1                      24  ...            1                           0\n",
              "\n",
              "[5 rows x 21 columns]"
            ]
          },
          "metadata": {},
          "execution_count": 40
        }
      ]
    },
    {
      "cell_type": "markdown",
      "metadata": {
        "id": "Rb348K924WeD"
      },
      "source": [
        "##Preparação das bases de treino e testes"
      ]
    },
    {
      "cell_type": "code",
      "metadata": {
        "colab": {
          "base_uri": "https://localhost:8080/"
        },
        "id": "J9Zm6EBi2uZR",
        "outputId": "b1bf633c-3596-461c-cc80-f8332b759fe5"
      },
      "source": [
        "y = dados['default']\n",
        "y.head()"
      ],
      "execution_count": null,
      "outputs": [
        {
          "output_type": "execute_result",
          "data": {
            "text/plain": [
              "0    0\n",
              "1    1\n",
              "2    0\n",
              "3    0\n",
              "4    1\n",
              "Name: default, dtype: int64"
            ]
          },
          "metadata": {},
          "execution_count": 41
        }
      ]
    },
    {
      "cell_type": "code",
      "metadata": {
        "colab": {
          "base_uri": "https://localhost:8080/",
          "height": 224
        },
        "id": "kztcfuwO23AZ",
        "outputId": "4611e196-f1b0-4ba7-afac-30c821e7ec28"
      },
      "source": [
        "x = dados.drop(columns = ['default'])\n",
        "x.head()"
      ],
      "execution_count": null,
      "outputs": [
        {
          "output_type": "execute_result",
          "data": {
            "text/html": [
              "<div>\n",
              "<style scoped>\n",
              "    .dataframe tbody tr th:only-of-type {\n",
              "        vertical-align: middle;\n",
              "    }\n",
              "\n",
              "    .dataframe tbody tr th {\n",
              "        vertical-align: top;\n",
              "    }\n",
              "\n",
              "    .dataframe thead th {\n",
              "        text-align: right;\n",
              "    }\n",
              "</style>\n",
              "<table border=\"1\" class=\"dataframe\">\n",
              "  <thead>\n",
              "    <tr style=\"text-align: right;\">\n",
              "      <th></th>\n",
              "      <th>prazo_emprestimo_meses</th>\n",
              "      <th>valor_emprestimo</th>\n",
              "      <th>taxa_comp_salario</th>\n",
              "      <th>anos_residencia_atual</th>\n",
              "      <th>idade</th>\n",
              "      <th>n_creditos_banco</th>\n",
              "      <th>n_dependentes</th>\n",
              "      <th>id_conta_corrente</th>\n",
              "      <th>id_historico_credito</th>\n",
              "      <th>id_proposito_emprestimo</th>\n",
              "      <th>id_reserva_cc</th>\n",
              "      <th>id_tempo_emprego_atual</th>\n",
              "      <th>id_sexo_est_civil</th>\n",
              "      <th>id_outros_fiadores</th>\n",
              "      <th>id_propriedade</th>\n",
              "      <th>id_outros_planos_financiamento</th>\n",
              "      <th>id_tipo_residencia</th>\n",
              "      <th>id_status_emprego</th>\n",
              "      <th>id_telefone</th>\n",
              "      <th>id_trabalhador_estrangeiro</th>\n",
              "    </tr>\n",
              "  </thead>\n",
              "  <tbody>\n",
              "    <tr>\n",
              "      <th>0</th>\n",
              "      <td>6</td>\n",
              "      <td>1169</td>\n",
              "      <td>4</td>\n",
              "      <td>4</td>\n",
              "      <td>67</td>\n",
              "      <td>2</td>\n",
              "      <td>1</td>\n",
              "      <td>0</td>\n",
              "      <td>0</td>\n",
              "      <td>0</td>\n",
              "      <td>0</td>\n",
              "      <td>0</td>\n",
              "      <td>0</td>\n",
              "      <td>0</td>\n",
              "      <td>0</td>\n",
              "      <td>0</td>\n",
              "      <td>0</td>\n",
              "      <td>0</td>\n",
              "      <td>0</td>\n",
              "      <td>0</td>\n",
              "    </tr>\n",
              "    <tr>\n",
              "      <th>1</th>\n",
              "      <td>48</td>\n",
              "      <td>5951</td>\n",
              "      <td>2</td>\n",
              "      <td>2</td>\n",
              "      <td>22</td>\n",
              "      <td>1</td>\n",
              "      <td>1</td>\n",
              "      <td>1</td>\n",
              "      <td>1</td>\n",
              "      <td>0</td>\n",
              "      <td>1</td>\n",
              "      <td>1</td>\n",
              "      <td>1</td>\n",
              "      <td>0</td>\n",
              "      <td>0</td>\n",
              "      <td>0</td>\n",
              "      <td>0</td>\n",
              "      <td>0</td>\n",
              "      <td>1</td>\n",
              "      <td>0</td>\n",
              "    </tr>\n",
              "    <tr>\n",
              "      <th>2</th>\n",
              "      <td>12</td>\n",
              "      <td>2096</td>\n",
              "      <td>2</td>\n",
              "      <td>3</td>\n",
              "      <td>49</td>\n",
              "      <td>1</td>\n",
              "      <td>2</td>\n",
              "      <td>2</td>\n",
              "      <td>0</td>\n",
              "      <td>1</td>\n",
              "      <td>1</td>\n",
              "      <td>2</td>\n",
              "      <td>0</td>\n",
              "      <td>0</td>\n",
              "      <td>0</td>\n",
              "      <td>0</td>\n",
              "      <td>0</td>\n",
              "      <td>1</td>\n",
              "      <td>1</td>\n",
              "      <td>0</td>\n",
              "    </tr>\n",
              "    <tr>\n",
              "      <th>3</th>\n",
              "      <td>42</td>\n",
              "      <td>7882</td>\n",
              "      <td>2</td>\n",
              "      <td>4</td>\n",
              "      <td>45</td>\n",
              "      <td>1</td>\n",
              "      <td>2</td>\n",
              "      <td>0</td>\n",
              "      <td>1</td>\n",
              "      <td>2</td>\n",
              "      <td>1</td>\n",
              "      <td>2</td>\n",
              "      <td>0</td>\n",
              "      <td>1</td>\n",
              "      <td>1</td>\n",
              "      <td>0</td>\n",
              "      <td>1</td>\n",
              "      <td>0</td>\n",
              "      <td>1</td>\n",
              "      <td>0</td>\n",
              "    </tr>\n",
              "    <tr>\n",
              "      <th>4</th>\n",
              "      <td>24</td>\n",
              "      <td>4870</td>\n",
              "      <td>3</td>\n",
              "      <td>4</td>\n",
              "      <td>53</td>\n",
              "      <td>2</td>\n",
              "      <td>2</td>\n",
              "      <td>0</td>\n",
              "      <td>2</td>\n",
              "      <td>3</td>\n",
              "      <td>1</td>\n",
              "      <td>1</td>\n",
              "      <td>0</td>\n",
              "      <td>0</td>\n",
              "      <td>2</td>\n",
              "      <td>0</td>\n",
              "      <td>1</td>\n",
              "      <td>0</td>\n",
              "      <td>1</td>\n",
              "      <td>0</td>\n",
              "    </tr>\n",
              "  </tbody>\n",
              "</table>\n",
              "</div>"
            ],
            "text/plain": [
              "   prazo_emprestimo_meses  ...  id_trabalhador_estrangeiro\n",
              "0                       6  ...                           0\n",
              "1                      48  ...                           0\n",
              "2                      12  ...                           0\n",
              "3                      42  ...                           0\n",
              "4                      24  ...                           0\n",
              "\n",
              "[5 rows x 20 columns]"
            ]
          },
          "metadata": {},
          "execution_count": 42
        }
      ]
    },
    {
      "cell_type": "code",
      "metadata": {
        "colab": {
          "base_uri": "https://localhost:8080/"
        },
        "id": "3uRJa2xW3YI_",
        "outputId": "b3ee284d-bcea-4c8b-986b-db862ce5da48"
      },
      "source": [
        "SEED = 77\n",
        "treino_x, teste_x, treino_y, teste_y = train_test_split(x, y, test_size = 0.30, random_state = SEED)\n",
        "\n",
        "base_treino = treino_x.shape[0]\n",
        "base_teste = teste_x.shape[0]\n",
        "\n",
        "print('A base de treino tem %s elementos e a base de teste tem %s elementos.' %(base_treino, base_teste))"
      ],
      "execution_count": null,
      "outputs": [
        {
          "output_type": "stream",
          "name": "stdout",
          "text": [
            "A base de treino tem 700 elementos e a base de teste tem 300 elementos.\n"
          ]
        }
      ]
    },
    {
      "cell_type": "markdown",
      "metadata": {
        "id": "ZSmMLIdz4cUX"
      },
      "source": [
        "##Execução dos Modelos de Machine Learning"
      ]
    },
    {
      "cell_type": "code",
      "metadata": {
        "colab": {
          "base_uri": "https://localhost:8080/"
        },
        "id": "tUlKic6E4K9o",
        "outputId": "0bd4d0c1-c6c0-47b4-a5f2-5d82c5f6910c"
      },
      "source": [
        "modelo = LogisticRegression(max_iter=1000)\n",
        "modelo.fit(treino_x, treino_y) \n",
        "print(modelo.score(treino_x, treino_y))"
      ],
      "execution_count": null,
      "outputs": [
        {
          "output_type": "stream",
          "name": "stdout",
          "text": [
            "0.7271428571428571\n"
          ]
        }
      ]
    },
    {
      "cell_type": "code",
      "metadata": {
        "id": "1ia5RVy94O_V",
        "colab": {
          "base_uri": "https://localhost:8080/"
        },
        "outputId": "34d1067a-0c10-4356-f727-6cf7cb6a8f87"
      },
      "source": [
        "previsoes = modelo.predict(teste_x)\n",
        "previsoes"
      ],
      "execution_count": null,
      "outputs": [
        {
          "output_type": "execute_result",
          "data": {
            "text/plain": [
              "array([0, 0, 0, 1, 0, 0, 1, 1, 0, 0, 0, 0, 0, 0, 1, 0, 0, 0, 0, 0, 0, 0,\n",
              "       0, 0, 0, 0, 0, 0, 0, 0, 0, 0, 0, 0, 0, 0, 0, 1, 0, 0, 0, 0, 0, 1,\n",
              "       1, 0, 0, 0, 1, 0, 0, 0, 1, 0, 0, 1, 0, 0, 1, 1, 0, 0, 0, 0, 0, 0,\n",
              "       1, 0, 1, 0, 0, 0, 1, 0, 0, 1, 1, 0, 1, 0, 1, 1, 1, 0, 0, 0, 0, 0,\n",
              "       0, 0, 0, 1, 0, 0, 0, 0, 1, 0, 0, 1, 0, 0, 1, 0, 0, 0, 0, 0, 0, 0,\n",
              "       0, 1, 0, 0, 0, 0, 1, 0, 0, 0, 0, 1, 0, 1, 0, 0, 0, 1, 0, 0, 0, 1,\n",
              "       0, 1, 1, 0, 0, 0, 0, 0, 0, 0, 0, 0, 1, 1, 1, 0, 0, 0, 0, 1, 0, 0,\n",
              "       0, 1, 0, 0, 0, 0, 0, 0, 0, 0, 1, 0, 1, 1, 0, 0, 0, 0, 0, 0, 0, 0,\n",
              "       0, 0, 1, 1, 1, 0, 1, 0, 0, 0, 0, 0, 0, 0, 0, 0, 0, 1, 1, 0, 0, 0,\n",
              "       1, 0, 0, 0, 0, 0, 0, 1, 0, 0, 0, 0, 0, 0, 0, 0, 0, 0, 0, 0, 0, 0,\n",
              "       0, 0, 0, 0, 0, 0, 0, 1, 0, 1, 0, 0, 0, 1, 1, 0, 0, 0, 0, 1, 0, 0,\n",
              "       0, 0, 0, 1, 0, 1, 0, 1, 0, 0, 0, 1, 0, 0, 0, 1, 0, 0, 0, 0, 0, 0,\n",
              "       0, 0, 0, 1, 0, 0, 1, 0, 0, 0, 0, 1, 0, 0, 0, 0, 0, 0, 0, 0, 0, 0,\n",
              "       0, 0, 0, 0, 0, 0, 0, 0, 1, 0, 0, 0, 1, 0])"
            ]
          },
          "metadata": {},
          "execution_count": 45
        }
      ]
    },
    {
      "cell_type": "code",
      "metadata": {
        "id": "coIAAWq-4mBb",
        "colab": {
          "base_uri": "https://localhost:8080/"
        },
        "outputId": "727be6b6-dbd5-4912-c0c2-6aebf0b63291"
      },
      "source": [
        "acuracia = accuracy_score(teste_y, previsoes)\n",
        "acuracia = round(acuracia, 3)*100\n",
        "acuracia"
      ],
      "execution_count": null,
      "outputs": [
        {
          "output_type": "execute_result",
          "data": {
            "text/plain": [
              "78.0"
            ]
          },
          "metadata": {},
          "execution_count": 46
        }
      ]
    },
    {
      "cell_type": "code",
      "metadata": {
        "id": "MroLwCyo4pWc",
        "colab": {
          "base_uri": "https://localhost:8080/",
          "height": 296
        },
        "outputId": "b9ad26a3-b416-42b0-ca9b-133f54a64e66"
      },
      "source": [
        "matriz_confusao = plot_confusion_matrix(modelo, teste_x, teste_y, cmap='Blues', values_format = '.3g')\n",
        "matriz_confusao   "
      ],
      "execution_count": null,
      "outputs": [
        {
          "output_type": "execute_result",
          "data": {
            "text/plain": [
              "<sklearn.metrics._plot.confusion_matrix.ConfusionMatrixDisplay at 0x7f429342ed10>"
            ]
          },
          "metadata": {},
          "execution_count": 47
        },
        {
          "output_type": "display_data",
          "data": {
            "image/png": "[encoded data removed]",
            "text/plain": [
              "<Figure size 432x288 with 2 Axes>"
            ]
          },
          "metadata": {
            "needs_background": "light"
          }
        }
      ]
    },
    {
      "cell_type": "code",
      "metadata": {
        "id": "Sz5NYKYZ4xUK",
        "colab": {
          "base_uri": "https://localhost:8080/"
        },
        "outputId": "ead9c36c-0a9b-4ab7-9b78-6009c00fea9c"
      },
      "source": [
        "print(classification_report(teste_y, previsoes))"
      ],
      "execution_count": null,
      "outputs": [
        {
          "output_type": "stream",
          "name": "stdout",
          "text": [
            "              precision    recall  f1-score   support\n",
            "\n",
            "           0       0.81      0.90      0.85       214\n",
            "           1       0.66      0.49      0.56        86\n",
            "\n",
            "    accuracy                           0.78       300\n",
            "   macro avg       0.73      0.69      0.71       300\n",
            "weighted avg       0.77      0.78      0.77       300\n",
            "\n"
          ]
        }
      ]
    },
    {
      "cell_type": "code",
      "metadata": {
        "id": "yxJh0YLH4-8w",
        "colab": {
          "base_uri": "https://localhost:8080/",
          "height": 367
        },
        "outputId": "1be04d51-24c7-4bde-98c9-404b3bfe00ef"
      },
      "source": [
        "prob_previsao = modelo.predict_proba(teste_x)[:,1]\n",
        "\n",
        "#tfp = taxa falsos positivos\n",
        "#tvp = taxa verdadeiros positivos\n",
        "\n",
        "tfp, tvp, limite = roc_curve(teste_y, prob_previsao)\n",
        "print('roc_auc', roc_auc_score(teste_y, prob_previsao))\n",
        "\n",
        "plt.subplots(1, figsize=(5,5))\n",
        "plt.title('Curva ROC')\n",
        "plt.plot(tfp,tvp)\n",
        "plt.xlabel('Especifidade')\n",
        "plt.ylabel('Sensibilidade')\n",
        "plt.plot([0, 1], ls=\"--\", c = 'red') #plotando linha guia pontilhada vermelha\n",
        "plt.plot([0, 0], [1, 0], ls=\"--\", c = 'green'), plt.plot([1, 1], ls=\"--\", c = 'green') #plotando linha guia pontilhada verde\n",
        "plt.show()\n"
      ],
      "execution_count": null,
      "outputs": [
        {
          "output_type": "stream",
          "name": "stdout",
          "text": [
            "roc_auc 0.7513584003477506\n"
          ]
        },
        {
          "output_type": "display_data",
          "data": {
            "image/png": "[encoded data removed]",
            "text/plain": [
              "<Figure size 360x360 with 1 Axes>"
            ]
          },
          "metadata": {
            "needs_background": "light"
          }
        }
      ]
    },
    {
      "cell_type": "code",
      "metadata": {
        "id": "68L6Wsg-5aQZ",
        "colab": {
          "base_uri": "https://localhost:8080/"
        },
        "outputId": "181b2814-a4da-4bde-a1ad-801053906404"
      },
      "source": [
        "dados_origem['default'].value_counts()"
      ],
      "execution_count": null,
      "outputs": [
        {
          "output_type": "execute_result",
          "data": {
            "text/plain": [
              "0    700\n",
              "1    300\n",
              "Name: default, dtype: int64"
            ]
          },
          "metadata": {},
          "execution_count": 50
        }
      ]
    },
    {
      "cell_type": "code",
      "metadata": {
        "id": "Yr6uWx7KFj75",
        "colab": {
          "base_uri": "https://localhost:8080/"
        },
        "outputId": "4fde43ef-157f-4535-a9cc-dcdfce0a94b4"
      },
      "source": [
        "dados_origem['sexo_est_civil'].value_counts()"
      ],
      "execution_count": null,
      "outputs": [
        {
          "output_type": "execute_result",
          "data": {
            "text/plain": [
              "male : single                          548\n",
              "female : divorced/separated/married    310\n",
              "male : married/widowed                  92\n",
              "male : divorced/separated               50\n",
              "Name: sexo_est_civil, dtype: int64"
            ]
          },
          "metadata": {},
          "execution_count": 51
        }
      ]
    },
    {
      "cell_type": "code",
      "metadata": {
        "id": "6PTkE8-xFpSG",
        "colab": {
          "base_uri": "https://localhost:8080/",
          "height": 635
        },
        "outputId": "d813d0e7-0cfa-4e74-ad48-e007ea4a0964"
      },
      "source": [
        "histogramas = ['id_sexo_est_civil', 'prazo_emprestimo_meses', 'default']\n",
        "\n",
        "lista_histogramas = list(enumerate(histogramas))\n",
        "\n",
        "plt.figure(figsize = (30,20))\n",
        "\n",
        "for i in lista_histogramas:\n",
        "    plt.subplot(2, 2, i[0]+1)\n",
        "    sns.countplot(x = i[1], data = dados)"
      ],
      "execution_count": null,
      "outputs": [
        {
          "output_type": "display_data",
          "data": {
            "image/png": "[encoded data removed]",
            "text/plain": [
              "<Figure size 2160x1440 with 3 Axes>"
            ]
          },
          "metadata": {
            "needs_background": "light"
          }
        }
      ]
    },
    {
      "cell_type": "code",
      "metadata": {
        "id": "z1mkeh3xGvFL",
        "colab": {
          "base_uri": "https://localhost:8080/",
          "height": 507
        },
        "outputId": "8565b868-1350-4a4f-8b38-9f5b275fc760"
      },
      "source": [
        "plt.figure(figsize = (20,10))\n",
        "\n",
        "sns.boxplot(x = 'id_sexo_est_civil', y = 'idade', data = dados)\n",
        "plt.title('Distribuicao de idadade por sexo e estado civil')\n",
        "\n",
        "plt.show()"
      ],
      "execution_count": null,
      "outputs": [
        {
          "output_type": "display_data",
          "data": {
            "image/png": "[encoded data removed]",
            "text/plain": [
              "<Figure size 1440x720 with 1 Axes>"
            ]
          },
          "metadata": {
            "needs_background": "light"
          }
        }
      ]
    },
    {
      "cell_type": "code",
      "metadata": {
        "id": "kOz0Zaw6G4W5",
        "colab": {
          "base_uri": "https://localhost:8080/",
          "height": 499
        },
        "outputId": "098b24d8-d555-4cfd-b462-68faef84f603"
      },
      "source": [
        "plt.figure(figsize = (20,10))\n",
        "\n",
        "plt.bar(dados.prazo_emprestimo_meses, dados.valor_emprestimo)\n",
        "\n",
        "plt.xlabel('prazo_emprestimo_meses')\n",
        "plt.ylabel('valor_emprestimo')\n",
        "plt.title('Valor X prazo em meses')\n",
        "\n",
        "plt.show()"
      ],
      "execution_count": null,
      "outputs": [
        {
          "output_type": "display_data",
          "data": {
            "image/png": "[encoded data removed]",
            "text/plain": [
              "<Figure size 1440x720 with 1 Axes>"
            ]
          },
          "metadata": {
            "needs_background": "light"
          }
        }
      ]
    },
    {
      "cell_type": "markdown",
      "metadata": {
        "id": "WMthtR5E9Grc"
      },
      "source": [
        "##Simulação com 5 amostras apenas"
      ]
    },
    {
      "cell_type": "code",
      "metadata": {
        "colab": {
          "base_uri": "https://localhost:8080/"
        },
        "id": "n_LogoeC4z5y",
        "outputId": "0126e161-ead7-434f-c8b4-718e9d1869cb"
      },
      "source": [
        "a_x = teste_x.head()\n",
        "a_y = teste_y.head()\n",
        "a_y"
      ],
      "execution_count": null,
      "outputs": [
        {
          "output_type": "execute_result",
          "data": {
            "text/plain": [
              "156    0\n",
              "112    0\n",
              "198    0\n",
              "972    1\n",
              "328    0\n",
              "Name: default, dtype: int64"
            ]
          },
          "metadata": {},
          "execution_count": 56
        }
      ]
    },
    {
      "cell_type": "code",
      "metadata": {
        "colab": {
          "base_uri": "https://localhost:8080/"
        },
        "id": "FQRBCR2F5g3h",
        "outputId": "e71353eb-1c53-4e2a-d117-1661b76cdb0b"
      },
      "source": [
        "a_prev = modelo.predict(a_x)\n",
        "a_prev"
      ],
      "execution_count": null,
      "outputs": [
        {
          "output_type": "execute_result",
          "data": {
            "text/plain": [
              "array([0, 0, 0, 1, 0])"
            ]
          },
          "metadata": {},
          "execution_count": 57
        }
      ]
    },
    {
      "cell_type": "code",
      "metadata": {
        "colab": {
          "base_uri": "https://localhost:8080/"
        },
        "id": "NNVQBbfF580k",
        "outputId": "4ea66e04-7dae-4555-cbf5-230695f38be1"
      },
      "source": [
        " print(classification_report(a_y, a_prev))"
      ],
      "execution_count": null,
      "outputs": [
        {
          "output_type": "stream",
          "name": "stdout",
          "text": [
            "              precision    recall  f1-score   support\n",
            "\n",
            "           0       1.00      1.00      1.00         4\n",
            "           1       1.00      1.00      1.00         1\n",
            "\n",
            "    accuracy                           1.00         5\n",
            "   macro avg       1.00      1.00      1.00         5\n",
            "weighted avg       1.00      1.00      1.00         5\n",
            "\n"
          ]
        }
      ]
    },
    {
      "cell_type": "code",
      "metadata": {
        "colab": {
          "base_uri": "https://localhost:8080/"
        },
        "id": "Oj8DHoFD71kW",
        "outputId": "b6b2e94f-e9f2-414c-8728-7e8939de50b4"
      },
      "source": [
        "a_prob = modelo.predict_proba(a_x)\n",
        "a_prob"
      ],
      "execution_count": null,
      "outputs": [
        {
          "output_type": "execute_result",
          "data": {
            "text/plain": [
              "array([[0.79262264, 0.20737736],\n",
              "       [0.60975263, 0.39024737],\n",
              "       [0.65102865, 0.34897135],\n",
              "       [0.35176423, 0.64823577],\n",
              "       [0.83191836, 0.16808164]])"
            ]
          },
          "metadata": {},
          "execution_count": 59
        }
      ]
    },
    {
      "cell_type": "markdown",
      "metadata": {
        "id": "KLCavlpE9O2C"
      },
      "source": [
        "##Matriz de correlação"
      ]
    },
    {
      "cell_type": "code",
      "metadata": {
        "colab": {
          "base_uri": "https://localhost:8080/",
          "height": 720
        },
        "id": "5U9a2GDI9SoA",
        "outputId": "f8a1c778-7a2e-43c1-96af-2ce48727d882"
      },
      "source": [
        "dados.corr()"
      ],
      "execution_count": null,
      "outputs": [
        {
          "output_type": "execute_result",
          "data": {
            "text/html": [
              "<div>\n",
              "<style scoped>\n",
              "    .dataframe tbody tr th:only-of-type {\n",
              "        vertical-align: middle;\n",
              "    }\n",
              "\n",
              "    .dataframe tbody tr th {\n",
              "        vertical-align: top;\n",
              "    }\n",
              "\n",
              "    .dataframe thead th {\n",
              "        text-align: right;\n",
              "    }\n",
              "</style>\n",
              "<table border=\"1\" class=\"dataframe\">\n",
              "  <thead>\n",
              "    <tr style=\"text-align: right;\">\n",
              "      <th></th>\n",
              "      <th>default</th>\n",
              "      <th>prazo_emprestimo_meses</th>\n",
              "      <th>valor_emprestimo</th>\n",
              "      <th>taxa_comp_salario</th>\n",
              "      <th>anos_residencia_atual</th>\n",
              "      <th>idade</th>\n",
              "      <th>n_creditos_banco</th>\n",
              "      <th>n_dependentes</th>\n",
              "      <th>id_conta_corrente</th>\n",
              "      <th>id_historico_credito</th>\n",
              "      <th>id_proposito_emprestimo</th>\n",
              "      <th>id_reserva_cc</th>\n",
              "      <th>id_tempo_emprego_atual</th>\n",
              "      <th>id_sexo_est_civil</th>\n",
              "      <th>id_outros_fiadores</th>\n",
              "      <th>id_propriedade</th>\n",
              "      <th>id_outros_planos_financiamento</th>\n",
              "      <th>id_tipo_residencia</th>\n",
              "      <th>id_status_emprego</th>\n",
              "      <th>id_telefone</th>\n",
              "      <th>id_trabalhador_estrangeiro</th>\n",
              "    </tr>\n",
              "  </thead>\n",
              "  <tbody>\n",
              "    <tr>\n",
              "      <th>default</th>\n",
              "      <td>1.000000</td>\n",
              "      <td>0.214927</td>\n",
              "      <td>0.154739</td>\n",
              "      <td>0.072404</td>\n",
              "      <td>0.002967</td>\n",
              "      <td>-0.091127</td>\n",
              "      <td>-0.045732</td>\n",
              "      <td>-0.003015</td>\n",
              "      <td>-0.317294</td>\n",
              "      <td>0.232157</td>\n",
              "      <td>0.051311</td>\n",
              "      <td>0.014445</td>\n",
              "      <td>0.099046</td>\n",
              "      <td>0.042643</td>\n",
              "      <td>0.028441</td>\n",
              "      <td>0.090146</td>\n",
              "      <td>0.104885</td>\n",
              "      <td>0.123815</td>\n",
              "      <td>0.027640</td>\n",
              "      <td>0.036466</td>\n",
              "      <td>-0.082079</td>\n",
              "    </tr>\n",
              "    <tr>\n",
              "      <th>prazo_emprestimo_meses</th>\n",
              "      <td>0.214927</td>\n",
              "      <td>1.000000</td>\n",
              "      <td>0.624984</td>\n",
              "      <td>0.074749</td>\n",
              "      <td>0.034067</td>\n",
              "      <td>-0.036136</td>\n",
              "      <td>-0.011284</td>\n",
              "      <td>-0.023834</td>\n",
              "      <td>-0.084226</td>\n",
              "      <td>0.142631</td>\n",
              "      <td>0.105305</td>\n",
              "      <td>-0.009619</td>\n",
              "      <td>-0.031987</td>\n",
              "      <td>-0.116029</td>\n",
              "      <td>0.006711</td>\n",
              "      <td>0.245655</td>\n",
              "      <td>0.076992</td>\n",
              "      <td>0.011950</td>\n",
              "      <td>0.015715</td>\n",
              "      <td>-0.164718</td>\n",
              "      <td>-0.138196</td>\n",
              "    </tr>\n",
              "    <tr>\n",
              "      <th>valor_emprestimo</th>\n",
              "      <td>0.154739</td>\n",
              "      <td>0.624984</td>\n",
              "      <td>1.000000</td>\n",
              "      <td>-0.271316</td>\n",
              "      <td>0.028926</td>\n",
              "      <td>0.032716</td>\n",
              "      <td>0.020795</td>\n",
              "      <td>0.017142</td>\n",
              "      <td>-0.063432</td>\n",
              "      <td>0.113776</td>\n",
              "      <td>0.203234</td>\n",
              "      <td>-0.060195</td>\n",
              "      <td>0.005653</td>\n",
              "      <td>-0.159434</td>\n",
              "      <td>0.037921</td>\n",
              "      <td>0.224550</td>\n",
              "      <td>0.045815</td>\n",
              "      <td>0.056119</td>\n",
              "      <td>0.182750</td>\n",
              "      <td>-0.276995</td>\n",
              "      <td>-0.050050</td>\n",
              "    </tr>\n",
              "    <tr>\n",
              "      <th>taxa_comp_salario</th>\n",
              "      <td>0.072404</td>\n",
              "      <td>0.074749</td>\n",
              "      <td>-0.271316</td>\n",
              "      <td>1.000000</td>\n",
              "      <td>0.049302</td>\n",
              "      <td>0.058266</td>\n",
              "      <td>0.021669</td>\n",
              "      <td>-0.071207</td>\n",
              "      <td>-0.031215</td>\n",
              "      <td>-0.024740</td>\n",
              "      <td>-0.092747</td>\n",
              "      <td>-0.010502</td>\n",
              "      <td>-0.087305</td>\n",
              "      <td>-0.081121</td>\n",
              "      <td>-0.014835</td>\n",
              "      <td>0.039353</td>\n",
              "      <td>0.034750</td>\n",
              "      <td>-0.073955</td>\n",
              "      <td>-0.037933</td>\n",
              "      <td>-0.014413</td>\n",
              "      <td>-0.090024</td>\n",
              "    </tr>\n",
              "    <tr>\n",
              "      <th>anos_residencia_atual</th>\n",
              "      <td>0.002967</td>\n",
              "      <td>0.034067</td>\n",
              "      <td>0.028926</td>\n",
              "      <td>0.049302</td>\n",
              "      <td>1.000000</td>\n",
              "      <td>0.266419</td>\n",
              "      <td>0.089625</td>\n",
              "      <td>0.042643</td>\n",
              "      <td>-0.075162</td>\n",
              "      <td>-0.027989</td>\n",
              "      <td>0.073651</td>\n",
              "      <td>-0.007060</td>\n",
              "      <td>-0.225763</td>\n",
              "      <td>-0.106742</td>\n",
              "      <td>-0.012690</td>\n",
              "      <td>0.055260</td>\n",
              "      <td>-0.034517</td>\n",
              "      <td>0.255106</td>\n",
              "      <td>-0.009815</td>\n",
              "      <td>-0.095359</td>\n",
              "      <td>-0.054097</td>\n",
              "    </tr>\n",
              "    <tr>\n",
              "      <th>idade</th>\n",
              "      <td>-0.091127</td>\n",
              "      <td>-0.036136</td>\n",
              "      <td>0.032716</td>\n",
              "      <td>0.058266</td>\n",
              "      <td>0.266419</td>\n",
              "      <td>1.000000</td>\n",
              "      <td>0.149254</td>\n",
              "      <td>0.118201</td>\n",
              "      <td>0.057936</td>\n",
              "      <td>-0.070046</td>\n",
              "      <td>0.066020</td>\n",
              "      <td>-0.068435</td>\n",
              "      <td>-0.270485</td>\n",
              "      <td>-0.186563</td>\n",
              "      <td>-0.028294</td>\n",
              "      <td>-0.054186</td>\n",
              "      <td>0.021858</td>\n",
              "      <td>-0.108437</td>\n",
              "      <td>0.163801</td>\n",
              "      <td>-0.145259</td>\n",
              "      <td>-0.006151</td>\n",
              "    </tr>\n",
              "    <tr>\n",
              "      <th>n_creditos_banco</th>\n",
              "      <td>-0.045732</td>\n",
              "      <td>-0.011284</td>\n",
              "      <td>0.020795</td>\n",
              "      <td>0.021669</td>\n",
              "      <td>0.089625</td>\n",
              "      <td>0.149254</td>\n",
              "      <td>1.000000</td>\n",
              "      <td>0.109667</td>\n",
              "      <td>0.042741</td>\n",
              "      <td>-0.207960</td>\n",
              "      <td>0.071995</td>\n",
              "      <td>-0.003050</td>\n",
              "      <td>-0.103222</td>\n",
              "      <td>-0.089640</td>\n",
              "      <td>-0.017662</td>\n",
              "      <td>0.001209</td>\n",
              "      <td>0.046993</td>\n",
              "      <td>-0.052609</td>\n",
              "      <td>0.017437</td>\n",
              "      <td>-0.065553</td>\n",
              "      <td>-0.009717</td>\n",
              "    </tr>\n",
              "    <tr>\n",
              "      <th>n_dependentes</th>\n",
              "      <td>-0.003015</td>\n",
              "      <td>-0.023834</td>\n",
              "      <td>0.017142</td>\n",
              "      <td>-0.071207</td>\n",
              "      <td>0.042643</td>\n",
              "      <td>0.118201</td>\n",
              "      <td>0.109667</td>\n",
              "      <td>1.000000</td>\n",
              "      <td>-0.027212</td>\n",
              "      <td>0.051849</td>\n",
              "      <td>0.077245</td>\n",
              "      <td>-0.015059</td>\n",
              "      <td>-0.073919</td>\n",
              "      <td>-0.238327</td>\n",
              "      <td>-0.010990</td>\n",
              "      <td>-0.041111</td>\n",
              "      <td>0.057595</td>\n",
              "      <td>-0.015004</td>\n",
              "      <td>0.053475</td>\n",
              "      <td>0.014753</td>\n",
              "      <td>0.077071</td>\n",
              "    </tr>\n",
              "    <tr>\n",
              "      <th>id_conta_corrente</th>\n",
              "      <td>-0.317294</td>\n",
              "      <td>-0.084226</td>\n",
              "      <td>-0.063432</td>\n",
              "      <td>-0.031215</td>\n",
              "      <td>-0.075162</td>\n",
              "      <td>0.057936</td>\n",
              "      <td>0.042741</td>\n",
              "      <td>-0.027212</td>\n",
              "      <td>1.000000</td>\n",
              "      <td>-0.131100</td>\n",
              "      <td>-0.079508</td>\n",
              "      <td>0.038927</td>\n",
              "      <td>-0.074184</td>\n",
              "      <td>-0.028672</td>\n",
              "      <td>-0.101713</td>\n",
              "      <td>0.019656</td>\n",
              "      <td>-0.023378</td>\n",
              "      <td>-0.121346</td>\n",
              "      <td>-0.021350</td>\n",
              "      <td>-0.049715</td>\n",
              "      <td>-0.017726</td>\n",
              "    </tr>\n",
              "    <tr>\n",
              "      <th>id_historico_credito</th>\n",
              "      <td>0.232157</td>\n",
              "      <td>0.142631</td>\n",
              "      <td>0.113776</td>\n",
              "      <td>-0.024740</td>\n",
              "      <td>-0.027989</td>\n",
              "      <td>-0.070046</td>\n",
              "      <td>-0.207960</td>\n",
              "      <td>0.051849</td>\n",
              "      <td>-0.131100</td>\n",
              "      <td>1.000000</td>\n",
              "      <td>0.143938</td>\n",
              "      <td>0.067464</td>\n",
              "      <td>0.078664</td>\n",
              "      <td>-0.005519</td>\n",
              "      <td>-0.008955</td>\n",
              "      <td>0.071606</td>\n",
              "      <td>0.239431</td>\n",
              "      <td>0.077417</td>\n",
              "      <td>0.037662</td>\n",
              "      <td>0.018283</td>\n",
              "      <td>-0.041784</td>\n",
              "    </tr>\n",
              "    <tr>\n",
              "      <th>id_proposito_emprestimo</th>\n",
              "      <td>0.051311</td>\n",
              "      <td>0.105305</td>\n",
              "      <td>0.203234</td>\n",
              "      <td>-0.092747</td>\n",
              "      <td>0.073651</td>\n",
              "      <td>0.066020</td>\n",
              "      <td>0.071995</td>\n",
              "      <td>0.077245</td>\n",
              "      <td>-0.079508</td>\n",
              "      <td>0.143938</td>\n",
              "      <td>1.000000</td>\n",
              "      <td>0.031698</td>\n",
              "      <td>0.026617</td>\n",
              "      <td>-0.035918</td>\n",
              "      <td>-0.020423</td>\n",
              "      <td>0.027161</td>\n",
              "      <td>0.049489</td>\n",
              "      <td>0.028464</td>\n",
              "      <td>0.155968</td>\n",
              "      <td>-0.116031</td>\n",
              "      <td>0.035655</td>\n",
              "    </tr>\n",
              "    <tr>\n",
              "      <th>id_reserva_cc</th>\n",
              "      <td>0.014445</td>\n",
              "      <td>-0.009619</td>\n",
              "      <td>-0.060195</td>\n",
              "      <td>-0.010502</td>\n",
              "      <td>-0.007060</td>\n",
              "      <td>-0.068435</td>\n",
              "      <td>-0.003050</td>\n",
              "      <td>-0.015059</td>\n",
              "      <td>0.038927</td>\n",
              "      <td>0.067464</td>\n",
              "      <td>0.031698</td>\n",
              "      <td>1.000000</td>\n",
              "      <td>0.014129</td>\n",
              "      <td>0.058271</td>\n",
              "      <td>-0.006327</td>\n",
              "      <td>0.032131</td>\n",
              "      <td>0.002696</td>\n",
              "      <td>0.018343</td>\n",
              "      <td>-0.045329</td>\n",
              "      <td>0.047016</td>\n",
              "      <td>0.006803</td>\n",
              "    </tr>\n",
              "    <tr>\n",
              "      <th>id_tempo_emprego_atual</th>\n",
              "      <td>0.099046</td>\n",
              "      <td>-0.031987</td>\n",
              "      <td>0.005653</td>\n",
              "      <td>-0.087305</td>\n",
              "      <td>-0.225763</td>\n",
              "      <td>-0.270485</td>\n",
              "      <td>-0.103222</td>\n",
              "      <td>-0.073919</td>\n",
              "      <td>-0.074184</td>\n",
              "      <td>0.078664</td>\n",
              "      <td>0.026617</td>\n",
              "      <td>0.014129</td>\n",
              "      <td>1.000000</td>\n",
              "      <td>0.170340</td>\n",
              "      <td>0.009477</td>\n",
              "      <td>-0.041518</td>\n",
              "      <td>0.004556</td>\n",
              "      <td>0.059077</td>\n",
              "      <td>0.108195</td>\n",
              "      <td>0.046683</td>\n",
              "      <td>0.031612</td>\n",
              "    </tr>\n",
              "    <tr>\n",
              "      <th>id_sexo_est_civil</th>\n",
              "      <td>0.042643</td>\n",
              "      <td>-0.116029</td>\n",
              "      <td>-0.159434</td>\n",
              "      <td>-0.081121</td>\n",
              "      <td>-0.106742</td>\n",
              "      <td>-0.186563</td>\n",
              "      <td>-0.089640</td>\n",
              "      <td>-0.238327</td>\n",
              "      <td>-0.028672</td>\n",
              "      <td>-0.005519</td>\n",
              "      <td>-0.035918</td>\n",
              "      <td>0.058271</td>\n",
              "      <td>0.170340</td>\n",
              "      <td>1.000000</td>\n",
              "      <td>-0.011880</td>\n",
              "      <td>-0.099575</td>\n",
              "      <td>-0.065461</td>\n",
              "      <td>0.083146</td>\n",
              "      <td>-0.041234</td>\n",
              "      <td>0.057207</td>\n",
              "      <td>0.009204</td>\n",
              "    </tr>\n",
              "    <tr>\n",
              "      <th>id_outros_fiadores</th>\n",
              "      <td>0.028441</td>\n",
              "      <td>0.006711</td>\n",
              "      <td>0.037921</td>\n",
              "      <td>-0.014835</td>\n",
              "      <td>-0.012690</td>\n",
              "      <td>-0.028294</td>\n",
              "      <td>-0.017662</td>\n",
              "      <td>-0.010990</td>\n",
              "      <td>-0.101713</td>\n",
              "      <td>-0.008955</td>\n",
              "      <td>-0.020423</td>\n",
              "      <td>-0.006327</td>\n",
              "      <td>0.009477</td>\n",
              "      <td>-0.011880</td>\n",
              "      <td>1.000000</td>\n",
              "      <td>-0.101378</td>\n",
              "      <td>-0.000955</td>\n",
              "      <td>0.036219</td>\n",
              "      <td>-0.003580</td>\n",
              "      <td>0.050996</td>\n",
              "      <td>0.107639</td>\n",
              "    </tr>\n",
              "    <tr>\n",
              "      <th>id_propriedade</th>\n",
              "      <td>0.090146</td>\n",
              "      <td>0.245655</td>\n",
              "      <td>0.224550</td>\n",
              "      <td>0.039353</td>\n",
              "      <td>0.055260</td>\n",
              "      <td>-0.054186</td>\n",
              "      <td>0.001209</td>\n",
              "      <td>-0.041111</td>\n",
              "      <td>0.019656</td>\n",
              "      <td>0.071606</td>\n",
              "      <td>0.027161</td>\n",
              "      <td>0.032131</td>\n",
              "      <td>-0.041518</td>\n",
              "      <td>-0.099575</td>\n",
              "      <td>-0.101378</td>\n",
              "      <td>1.000000</td>\n",
              "      <td>0.041147</td>\n",
              "      <td>0.022420</td>\n",
              "      <td>0.007785</td>\n",
              "      <td>-0.155051</td>\n",
              "      <td>-0.138772</td>\n",
              "    </tr>\n",
              "    <tr>\n",
              "      <th>id_outros_planos_financiamento</th>\n",
              "      <td>0.104885</td>\n",
              "      <td>0.076992</td>\n",
              "      <td>0.045815</td>\n",
              "      <td>0.034750</td>\n",
              "      <td>-0.034517</td>\n",
              "      <td>0.021858</td>\n",
              "      <td>0.046993</td>\n",
              "      <td>0.057595</td>\n",
              "      <td>-0.023378</td>\n",
              "      <td>0.239431</td>\n",
              "      <td>0.049489</td>\n",
              "      <td>0.002696</td>\n",
              "      <td>0.004556</td>\n",
              "      <td>-0.065461</td>\n",
              "      <td>-0.000955</td>\n",
              "      <td>0.041147</td>\n",
              "      <td>1.000000</td>\n",
              "      <td>-0.077624</td>\n",
              "      <td>0.060764</td>\n",
              "      <td>-0.030704</td>\n",
              "      <td>-0.036734</td>\n",
              "    </tr>\n",
              "    <tr>\n",
              "      <th>id_tipo_residencia</th>\n",
              "      <td>0.123815</td>\n",
              "      <td>0.011950</td>\n",
              "      <td>0.056119</td>\n",
              "      <td>-0.073955</td>\n",
              "      <td>0.255106</td>\n",
              "      <td>-0.108437</td>\n",
              "      <td>-0.052609</td>\n",
              "      <td>-0.015004</td>\n",
              "      <td>-0.121346</td>\n",
              "      <td>0.077417</td>\n",
              "      <td>0.028464</td>\n",
              "      <td>0.018343</td>\n",
              "      <td>0.059077</td>\n",
              "      <td>0.083146</td>\n",
              "      <td>0.036219</td>\n",
              "      <td>0.022420</td>\n",
              "      <td>-0.077624</td>\n",
              "      <td>1.000000</td>\n",
              "      <td>0.022057</td>\n",
              "      <td>0.003307</td>\n",
              "      <td>0.005155</td>\n",
              "    </tr>\n",
              "    <tr>\n",
              "      <th>id_status_emprego</th>\n",
              "      <td>0.027640</td>\n",
              "      <td>0.015715</td>\n",
              "      <td>0.182750</td>\n",
              "      <td>-0.037933</td>\n",
              "      <td>-0.009815</td>\n",
              "      <td>0.163801</td>\n",
              "      <td>0.017437</td>\n",
              "      <td>0.053475</td>\n",
              "      <td>-0.021350</td>\n",
              "      <td>0.037662</td>\n",
              "      <td>0.155968</td>\n",
              "      <td>-0.045329</td>\n",
              "      <td>0.108195</td>\n",
              "      <td>-0.041234</td>\n",
              "      <td>-0.003580</td>\n",
              "      <td>0.007785</td>\n",
              "      <td>0.060764</td>\n",
              "      <td>0.022057</td>\n",
              "      <td>1.000000</td>\n",
              "      <td>-0.188515</td>\n",
              "      <td>0.020686</td>\n",
              "    </tr>\n",
              "    <tr>\n",
              "      <th>id_telefone</th>\n",
              "      <td>0.036466</td>\n",
              "      <td>-0.164718</td>\n",
              "      <td>-0.276995</td>\n",
              "      <td>-0.014413</td>\n",
              "      <td>-0.095359</td>\n",
              "      <td>-0.145259</td>\n",
              "      <td>-0.065553</td>\n",
              "      <td>0.014753</td>\n",
              "      <td>-0.049715</td>\n",
              "      <td>0.018283</td>\n",
              "      <td>-0.116031</td>\n",
              "      <td>0.047016</td>\n",
              "      <td>0.046683</td>\n",
              "      <td>0.057207</td>\n",
              "      <td>0.050996</td>\n",
              "      <td>-0.155051</td>\n",
              "      <td>-0.030704</td>\n",
              "      <td>0.003307</td>\n",
              "      <td>-0.188515</td>\n",
              "      <td>1.000000</td>\n",
              "      <td>0.107401</td>\n",
              "    </tr>\n",
              "    <tr>\n",
              "      <th>id_trabalhador_estrangeiro</th>\n",
              "      <td>-0.082079</td>\n",
              "      <td>-0.138196</td>\n",
              "      <td>-0.050050</td>\n",
              "      <td>-0.090024</td>\n",
              "      <td>-0.054097</td>\n",
              "      <td>-0.006151</td>\n",
              "      <td>-0.009717</td>\n",
              "      <td>0.077071</td>\n",
              "      <td>-0.017726</td>\n",
              "      <td>-0.041784</td>\n",
              "      <td>0.035655</td>\n",
              "      <td>0.006803</td>\n",
              "      <td>0.031612</td>\n",
              "      <td>0.009204</td>\n",
              "      <td>0.107639</td>\n",
              "      <td>-0.138772</td>\n",
              "      <td>-0.036734</td>\n",
              "      <td>0.005155</td>\n",
              "      <td>0.020686</td>\n",
              "      <td>0.107401</td>\n",
              "      <td>1.000000</td>\n",
              "    </tr>\n",
              "  </tbody>\n",
              "</table>\n",
              "</div>"
            ],
            "text/plain": [
              "                                 default  ...  id_trabalhador_estrangeiro\n",
              "default                         1.000000  ...                   -0.082079\n",
              "prazo_emprestimo_meses          0.214927  ...                   -0.138196\n",
              "valor_emprestimo                0.154739  ...                   -0.050050\n",
              "taxa_comp_salario               0.072404  ...                   -0.090024\n",
              "anos_residencia_atual           0.002967  ...                   -0.054097\n",
              "idade                          -0.091127  ...                   -0.006151\n",
              "n_creditos_banco               -0.045732  ...                   -0.009717\n",
              "n_dependentes                  -0.003015  ...                    0.077071\n",
              "id_conta_corrente              -0.317294  ...                   -0.017726\n",
              "id_historico_credito            0.232157  ...                   -0.041784\n",
              "id_proposito_emprestimo         0.051311  ...                    0.035655\n",
              "id_reserva_cc                   0.014445  ...                    0.006803\n",
              "id_tempo_emprego_atual          0.099046  ...                    0.031612\n",
              "id_sexo_est_civil               0.042643  ...                    0.009204\n",
              "id_outros_fiadores              0.028441  ...                    0.107639\n",
              "id_propriedade                  0.090146  ...                   -0.138772\n",
              "id_outros_planos_financiamento  0.104885  ...                   -0.036734\n",
              "id_tipo_residencia              0.123815  ...                    0.005155\n",
              "id_status_emprego               0.027640  ...                    0.020686\n",
              "id_telefone                     0.036466  ...                    0.107401\n",
              "id_trabalhador_estrangeiro     -0.082079  ...                    1.000000\n",
              "\n",
              "[21 rows x 21 columns]"
            ]
          },
          "metadata": {},
          "execution_count": 60
        }
      ]
    },
    {
      "cell_type": "code",
      "metadata": {
        "colab": {
          "base_uri": "https://localhost:8080/",
          "height": 275
        },
        "id": "ufn0As409W-B",
        "outputId": "7c60281a-becb-41c4-9cda-da237c33e622"
      },
      "source": [
        "plt.matshow(dados.corr())\n",
        "plt.show()"
      ],
      "execution_count": null,
      "outputs": [
        {
          "output_type": "display_data",
          "data": {
            "image/png": "[encoded data removed]",
            "text/plain": [
              "<Figure size 288x288 with 1 Axes>"
            ]
          },
          "metadata": {
            "needs_background": "light"
          }
        }
      ]
    },
    {
      "cell_type": "markdown",
      "metadata": {
        "id": "b17BTCPc5YL2"
      },
      "source": [
        "##Comparação entre Diferentes Modelos de Machine Learning"
      ]
    },
    {
      "cell_type": "markdown",
      "metadata": {
        "id": "CuL9VJI_5gXl"
      },
      "source": [
        "###Regressão Logística"
      ]
    },
    {
      "cell_type": "code",
      "metadata": {
        "id": "24nu8Vmm9kjS",
        "colab": {
          "base_uri": "https://localhost:8080/",
          "height": 985
        },
        "outputId": "9273d6c1-53d2-4050-d058-bbb6062c7acf"
      },
      "source": [
        "roda_modelo(dados, LogisticRegression(max_iter=1000))"
      ],
      "execution_count": null,
      "outputs": [
        {
          "output_type": "stream",
          "name": "stdout",
          "text": [
            "A base de treino tem 700 elementos e a base de teste tem 300 elementos.\n",
            "----------------------------------------------------------------------------------------------------\n",
            "\n",
            "Classification Report:\n",
            "              precision    recall  f1-score   support\n",
            "\n",
            "           0       0.81      0.90      0.85       214\n",
            "           1       0.66      0.49      0.56        86\n",
            "\n",
            "    accuracy                           0.78       300\n",
            "   macro avg       0.73      0.69      0.71       300\n",
            "weighted avg       0.77      0.78      0.77       300\n",
            "\n",
            "----------------------------------------------------------------------------------------------------\n",
            "roc_auc: 0.7513584003477506\n"
          ]
        },
        {
          "output_type": "display_data",
          "data": {
            "image/png": "[encoded data removed]",
            "text/plain": [
              "<Figure size 432x288 with 2 Axes>"
            ]
          },
          "metadata": {
            "needs_background": "light"
          }
        },
        {
          "output_type": "display_data",
          "data": {
            "image/png": "[encoded data removed]",
            "text/plain": [
              "<Figure size 360x360 with 1 Axes>"
            ]
          },
          "metadata": {
            "needs_background": "light"
          }
        },
        {
          "output_type": "execute_result",
          "data": {
            "text/plain": [
              "(LogisticRegression(C=1.0, class_weight=None, dual=False, fit_intercept=True,\n",
              "                    intercept_scaling=1, l1_ratio=None, max_iter=1000,\n",
              "                    multi_class='auto', n_jobs=None, penalty='l2',\n",
              "                    random_state=None, solver='lbfgs', tol=0.0001, verbose=0,\n",
              "                    warm_start=False),\n",
              " <sklearn.metrics._plot.confusion_matrix.ConfusionMatrixDisplay at 0x7f4289266990>)"
            ]
          },
          "metadata": {},
          "execution_count": 62
        }
      ]
    },
    {
      "cell_type": "markdown",
      "metadata": {
        "id": "y8GfOeiE5lcG"
      },
      "source": [
        "###KNN"
      ]
    },
    {
      "cell_type": "code",
      "metadata": {
        "colab": {
          "base_uri": "https://localhost:8080/",
          "height": 951
        },
        "id": "ymRQj8OCPs10",
        "outputId": "3270fd1c-40e0-499b-85ce-cd2c84fcfa68"
      },
      "source": [
        "roda_modelo(dados, KNeighborsClassifier())"
      ],
      "execution_count": null,
      "outputs": [
        {
          "output_type": "stream",
          "name": "stdout",
          "text": [
            "A base de treino tem 700 elementos e a base de teste tem 300 elementos.\n",
            "----------------------------------------------------------------------------------------------------\n",
            "\n",
            "Classification Report:\n",
            "              precision    recall  f1-score   support\n",
            "\n",
            "           0       0.75      0.86      0.80       214\n",
            "           1       0.46      0.30      0.36        86\n",
            "\n",
            "    accuracy                           0.70       300\n",
            "   macro avg       0.60      0.58      0.58       300\n",
            "weighted avg       0.67      0.70      0.68       300\n",
            "\n",
            "----------------------------------------------------------------------------------------------------\n",
            "roc_auc: 0.6097587480982394\n"
          ]
        },
        {
          "output_type": "display_data",
          "data": {
            "image/png": "[encoded data removed]",
            "text/plain": [
              "<Figure size 432x288 with 2 Axes>"
            ]
          },
          "metadata": {
            "needs_background": "light"
          }
        },
        {
          "output_type": "display_data",
          "data": {
            "image/png": "[encoded data removed]",
            "text/plain": [
              "<Figure size 360x360 with 1 Axes>"
            ]
          },
          "metadata": {
            "needs_background": "light"
          }
        },
        {
          "output_type": "execute_result",
          "data": {
            "text/plain": [
              "(KNeighborsClassifier(algorithm='auto', leaf_size=30, metric='minkowski',\n",
              "                      metric_params=None, n_jobs=None, n_neighbors=5, p=2,\n",
              "                      weights='uniform'),\n",
              " <sklearn.metrics._plot.confusion_matrix.ConfusionMatrixDisplay at 0x7f42894ddad0>)"
            ]
          },
          "metadata": {},
          "execution_count": 63
        }
      ]
    },
    {
      "cell_type": "markdown",
      "metadata": {
        "id": "bYWbTqyI5sq9"
      },
      "source": [
        "###Random Forest"
      ]
    },
    {
      "cell_type": "code",
      "metadata": {
        "colab": {
          "base_uri": "https://localhost:8080/",
          "height": 1000
        },
        "id": "T8JVvxtqQGdQ",
        "outputId": "a772ea40-9b55-4692-c9de-f1a675a8b19f"
      },
      "source": [
        " roda_modelo(dados, RandomForestClassifier (n_estimators = 1000, random_state = 42)) "
      ],
      "execution_count": null,
      "outputs": [
        {
          "output_type": "stream",
          "name": "stdout",
          "text": [
            "A base de treino tem 700 elementos e a base de teste tem 300 elementos.\n",
            "----------------------------------------------------------------------------------------------------\n",
            "\n",
            "Classification Report:\n",
            "              precision    recall  f1-score   support\n",
            "\n",
            "           0       0.79      0.93      0.86       214\n",
            "           1       0.71      0.40      0.51        86\n",
            "\n",
            "    accuracy                           0.78       300\n",
            "   macro avg       0.75      0.66      0.68       300\n",
            "weighted avg       0.77      0.78      0.76       300\n",
            "\n",
            "----------------------------------------------------------------------------------------------------\n",
            "roc_auc: 0.778118887198435\n"
          ]
        },
        {
          "output_type": "display_data",
          "data": {
            "image/png": "[encoded data removed]",
            "text/plain": [
              "<Figure size 432x288 with 2 Axes>"
            ]
          },
          "metadata": {
            "needs_background": "light"
          }
        },
        {
          "output_type": "display_data",
          "data": {
            "image/png": "[encoded data removed]",
            "text/plain": [
              "<Figure size 360x360 with 1 Axes>"
            ]
          },
          "metadata": {
            "needs_background": "light"
          }
        },
        {
          "output_type": "execute_result",
          "data": {
            "text/plain": [
              "(RandomForestClassifier(bootstrap=True, ccp_alpha=0.0, class_weight=None,\n",
              "                        criterion='gini', max_depth=None, max_features='auto',\n",
              "                        max_leaf_nodes=None, max_samples=None,\n",
              "                        min_impurity_decrease=0.0, min_impurity_split=None,\n",
              "                        min_samples_leaf=1, min_samples_split=2,\n",
              "                        min_weight_fraction_leaf=0.0, n_estimators=1000,\n",
              "                        n_jobs=None, oob_score=False, random_state=42, verbose=0,\n",
              "                        warm_start=False),\n",
              " <sklearn.metrics._plot.confusion_matrix.ConfusionMatrixDisplay at 0x7f4294a2a190>)"
            ]
          },
          "metadata": {},
          "execution_count": 64
        }
      ]
    },
    {
      "cell_type": "markdown",
      "metadata": {
        "id": "3QotPlPw54TK"
      },
      "source": [
        "###Gradient Boosting"
      ]
    },
    {
      "cell_type": "code",
      "metadata": {
        "colab": {
          "base_uri": "https://localhost:8080/",
          "height": 1000
        },
        "id": "hBlKkZvnQNpH",
        "outputId": "aa47e441-3da2-4e9d-e615-2c9579e8aa91"
      },
      "source": [
        "roda_modelo(dados, XGBClassifier(learning_rate = 0.1, n_estimators=1000, max_depth=6,\n",
        "                                 min_child_weight=1, gamma=0, subsample=0.8, colsample_bytree=0.8,\n",
        "                                 objective= 'binary:logistic', nthread=4, scale_pos_weight=1.0, seed=27))"
      ],
      "execution_count": null,
      "outputs": [
        {
          "output_type": "stream",
          "name": "stdout",
          "text": [
            "A base de treino tem 700 elementos e a base de teste tem 300 elementos.\n",
            "----------------------------------------------------------------------------------------------------\n",
            "\n",
            "Classification Report:\n",
            "              precision    recall  f1-score   support\n",
            "\n",
            "           0       0.81      0.91      0.86       214\n",
            "           1       0.67      0.48      0.56        86\n",
            "\n",
            "    accuracy                           0.78       300\n",
            "   macro avg       0.74      0.69      0.71       300\n",
            "weighted avg       0.77      0.78      0.77       300\n",
            "\n",
            "----------------------------------------------------------------------------------------------------\n",
            "roc_auc: 0.7484242555966095\n"
          ]
        },
        {
          "output_type": "display_data",
          "data": {
            "image/png": "[encoded data removed]",
            "text/plain": [
              "<Figure size 432x288 with 2 Axes>"
            ]
          },
          "metadata": {
            "needs_background": "light"
          }
        },
        {
          "output_type": "display_data",
          "data": {
            "image/png": "[encoded data removed]",
            "text/plain": [
              "<Figure size 360x360 with 1 Axes>"
            ]
          },
          "metadata": {
            "needs_background": "light"
          }
        },
        {
          "output_type": "execute_result",
          "data": {
            "text/plain": [
              "(XGBClassifier(base_score=0.5, booster='gbtree', colsample_bylevel=1,\n",
              "               colsample_bynode=1, colsample_bytree=0.8, gamma=0,\n",
              "               learning_rate=0.1, max_delta_step=0, max_depth=6,\n",
              "               min_child_weight=1, missing=None, n_estimators=1000, n_jobs=1,\n",
              "               nthread=4, objective='binary:logistic', random_state=0,\n",
              "               reg_alpha=0, reg_lambda=1, scale_pos_weight=1.0, seed=27,\n",
              "               silent=None, subsample=0.8, verbosity=1),\n",
              " <sklearn.metrics._plot.confusion_matrix.ConfusionMatrixDisplay at 0x7f4294b72f90>)"
            ]
          },
          "metadata": {},
          "execution_count": 65
        }
      ]
    },
    {
      "cell_type": "markdown",
      "metadata": {
        "id": "02zQr9PK6EQA"
      },
      "source": [
        "##Análise dos Modelos de Machine Learning"
      ]
    },
    {
      "cell_type": "code",
      "metadata": {
        "id": "ZNTZeetL6HvS"
      },
      "source": [
        "Com base na execução dos modelos com o dataset objeto deste estudo, o algoritmo que apresentou melhor desempenho foi o "
      ],
      "execution_count": null,
      "outputs": []
    }
  ]
}